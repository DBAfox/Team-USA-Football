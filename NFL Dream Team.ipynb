{
 "cells": [
  {
   "cell_type": "code",
   "execution_count": 2,
   "metadata": {},
   "outputs": [],
   "source": [
    "import pandas as pd\n",
    "import numpy as np"
   ]
  },
  {
   "cell_type": "code",
   "execution_count": 3,
   "metadata": {},
   "outputs": [],
   "source": [
    "stats_df = pd.read_csv('data/player_stats.csv')\n",
    "qbr_df = pd.read_csv('data/qbr_season_level.csv') "
   ]
  },
  {
   "cell_type": "code",
   "execution_count": 4,
   "metadata": {},
   "outputs": [
    {
     "name": "stdout",
     "output_type": "stream",
     "text": [
      "<class 'pandas.core.frame.DataFrame'>\n",
      "RangeIndex: 129739 entries, 0 to 129738\n",
      "Data columns (total 53 columns):\n",
      " #   Column                       Non-Null Count   Dtype  \n",
      "---  ------                       --------------   -----  \n",
      " 0   player_id                    129739 non-null  object \n",
      " 1   player_name                  61504 non-null   object \n",
      " 2   player_display_name          129736 non-null  object \n",
      " 3   position                     129667 non-null  object \n",
      " 4   position_group               129667 non-null  object \n",
      " 5   headshot_url                 69803 non-null   object \n",
      " 6   recent_team                  129739 non-null  object \n",
      " 7   season                       129739 non-null  int64  \n",
      " 8   week                         129739 non-null  int64  \n",
      " 9   season_type                  129739 non-null  object \n",
      " 10  opponent_team                129739 non-null  object \n",
      " 11  completions                  129739 non-null  int64  \n",
      " 12  attempts                     129739 non-null  int64  \n",
      " 13  passing_yards                129739 non-null  int64  \n",
      " 14  passing_tds                  129739 non-null  int64  \n",
      " 15  interceptions                129739 non-null  int64  \n",
      " 16  sacks                        129739 non-null  int64  \n",
      " 17  sack_yards                   129739 non-null  int64  \n",
      " 18  sack_fumbles                 129739 non-null  int64  \n",
      " 19  sack_fumbles_lost            129739 non-null  int64  \n",
      " 20  passing_air_yards            129739 non-null  int64  \n",
      " 21  passing_yards_after_catch    129739 non-null  int64  \n",
      " 22  passing_first_downs          129739 non-null  int64  \n",
      " 23  passing_epa                  16473 non-null   float64\n",
      " 24  passing_2pt_conversions      129739 non-null  int64  \n",
      " 25  pacr                         16026 non-null   float64\n",
      " 26  dakota                       14460 non-null   float64\n",
      " 27  carries                      129739 non-null  int64  \n",
      " 28  rushing_yards                129739 non-null  int64  \n",
      " 29  rushing_tds                  129739 non-null  int64  \n",
      " 30  rushing_fumbles              129739 non-null  int64  \n",
      " 31  rushing_fumbles_lost         129739 non-null  int64  \n",
      " 32  rushing_first_downs          129739 non-null  int64  \n",
      " 33  rushing_epa                  53317 non-null   float64\n",
      " 34  rushing_2pt_conversions      129739 non-null  int64  \n",
      " 35  receptions                   129739 non-null  int64  \n",
      " 36  targets                      129739 non-null  int64  \n",
      " 37  receiving_yards              129739 non-null  int64  \n",
      " 38  receiving_tds                129739 non-null  int64  \n",
      " 39  receiving_fumbles            129739 non-null  int64  \n",
      " 40  receiving_fumbles_lost       129739 non-null  int64  \n",
      " 41  receiving_air_yards          129739 non-null  int64  \n",
      " 42  receiving_yards_after_catch  129739 non-null  int64  \n",
      " 43  receiving_first_downs        129739 non-null  int64  \n",
      " 44  receiving_epa                103680 non-null  float64\n",
      " 45  receiving_2pt_conversions    129739 non-null  int64  \n",
      " 46  racr                         99833 non-null   float64\n",
      " 47  target_share                 103680 non-null  float64\n",
      " 48  air_yards_share              76004 non-null   float64\n",
      " 49  wopr                         76004 non-null   float64\n",
      " 50  special_teams_tds            129739 non-null  int64  \n",
      " 51  fantasy_points               129739 non-null  float64\n",
      " 52  fantasy_points_ppr           129739 non-null  float64\n",
      "dtypes: float64(11), int64(33), object(9)\n",
      "memory usage: 52.5+ MB\n"
     ]
    }
   ],
   "source": [
    "stats_df.info()"
   ]
  },
  {
   "cell_type": "code",
   "execution_count": 7,
   "metadata": {},
   "outputs": [
    {
     "data": {
      "text/plain": [
       "2021    5698\n",
       "2023    5653\n",
       "2022    5631\n",
       "2020    5447\n",
       "2012    5354\n",
       "2014    5350\n",
       "2017    5319\n",
       "2015    5318\n",
       "2011    5301\n",
       "2018    5281\n",
       "2016    5274\n",
       "2019    5261\n",
       "2009    5242\n",
       "2013    5231\n",
       "2010    5201\n",
       "2003    5142\n",
       "2004    5129\n",
       "2002    5078\n",
       "1999    5031\n",
       "2001    4895\n",
       "2000    4874\n",
       "2007    4841\n",
       "2008    4814\n",
       "2006    4712\n",
       "2005    4662\n",
       "Name: season, dtype: int64"
      ]
     },
     "execution_count": 7,
     "metadata": {},
     "output_type": "execute_result"
    }
   ],
   "source": [
    "stats_df['season'].value_counts()"
   ]
  },
  {
   "cell_type": "code",
   "execution_count": 5,
   "metadata": {},
   "outputs": [
    {
     "name": "stdout",
     "output_type": "stream",
     "text": [
      "<class 'pandas.core.frame.DataFrame'>\n",
      "RangeIndex: 1363 entries, 0 to 1362\n",
      "Data columns (total 23 columns):\n",
      " #   Column         Non-Null Count  Dtype  \n",
      "---  ------         --------------  -----  \n",
      " 0   season         1363 non-null   int64  \n",
      " 1   season_type    1363 non-null   object \n",
      " 2   game_week      1363 non-null   object \n",
      " 3   team_abb       1363 non-null   object \n",
      " 4   player_id      1363 non-null   int64  \n",
      " 5   name_short     1363 non-null   object \n",
      " 6   rank           775 non-null    float64\n",
      " 7   qbr_total      1363 non-null   float64\n",
      " 8   pts_added      1363 non-null   float64\n",
      " 9   qb_plays       1363 non-null   int64  \n",
      " 10  epa_total      1363 non-null   float64\n",
      " 11  pass           1363 non-null   float64\n",
      " 12  run            1363 non-null   float64\n",
      " 13  exp_sack       1363 non-null   int64  \n",
      " 14  penalty        1363 non-null   float64\n",
      " 15  qbr_raw        1363 non-null   float64\n",
      " 16  sack           1363 non-null   float64\n",
      " 17  name_first     1363 non-null   object \n",
      " 18  name_last      1363 non-null   object \n",
      " 19  name_display   1363 non-null   object \n",
      " 20  headshot_href  1321 non-null   object \n",
      " 21  team           1359 non-null   object \n",
      " 22  qualified      1363 non-null   bool   \n",
      "dtypes: bool(1), float64(9), int64(4), object(9)\n",
      "memory usage: 235.7+ KB\n"
     ]
    }
   ],
   "source": [
    "qbr_df.info()"
   ]
  },
  {
   "cell_type": "code",
   "execution_count": 6,
   "metadata": {},
   "outputs": [
    {
     "data": {
      "text/plain": [
       "2021    91\n",
       "2020    84\n",
       "2023    82\n",
       "2019    81\n",
       "2010    80\n",
       "2022    79\n",
       "2008    76\n",
       "2018    74\n",
       "2016    74\n",
       "2009    74\n",
       "2011    73\n",
       "2013    73\n",
       "2006    71\n",
       "2012    71\n",
       "2015    71\n",
       "2017    70\n",
       "2007    70\n",
       "2014    69\n",
       "Name: season, dtype: int64"
      ]
     },
     "execution_count": 6,
     "metadata": {},
     "output_type": "execute_result"
    }
   ],
   "source": [
    "qbr_df['season'].value_counts()"
   ]
  },
  {
   "cell_type": "code",
   "execution_count": null,
   "metadata": {},
   "outputs": [],
   "source": []
  }
 ],
 "metadata": {
  "language_info": {
   "name": "python"
  }
 },
 "nbformat": 4,
 "nbformat_minor": 2
}
